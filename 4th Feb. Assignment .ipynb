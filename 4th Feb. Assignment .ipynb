{
 "cells": [
  {
   "cell_type": "raw",
   "id": "d0f84d78-f9e5-49cd-a739-e2fbceb7f392",
   "metadata": {},
   "source": [
    "Q1. Create a python program to sort the given list of tuples based on integer value using a lambda function.\n",
    "[('Sachin Tendulkar', 34357), ('Ricky Ponting', 27483), ('Jack Kallis', 25534), ('Virat Kohli', 24936)]\n"
   ]
  },
  {
   "cell_type": "code",
   "execution_count": 2,
   "id": "03352778-6743-40e4-b3d5-0720855f596c",
   "metadata": {},
   "outputs": [
    {
     "name": "stdout",
     "output_type": "stream",
     "text": [
      "\n",
      "Sorting the List of Tuples based on integer value :\n",
      "[('Virat Kohli', 24936), ('Jack Kallis', 25534), ('Ricky Ponting', 27483), ('Sachin Tendulkar', 34357)]\n"
     ]
    }
   ],
   "source": [
    "list = [('Sachin Tendulkar', 34357), ('Ricky Ponting', 27483), ('Jack Kallis', 25534), ('Virat Kohli', 24936)]\n",
    "\n",
    "list.sort(key = lambda x: x[1])\n",
    "print(\"\\nSorting the List of Tuples based on integer value :\")\n",
    "print(list)\n",
    " "
   ]
  },
  {
   "cell_type": "raw",
   "id": "cfb0ee6a-c7b6-45c0-89a0-22cf792a58ca",
   "metadata": {},
   "source": [
    "Q2. Write a Python Program to find the squares of all the numbers in the given list of integers using lambda and map functions.\n",
    "[1, 2, 3, 4, 5, 6, 7, 8, 9, 10]\n"
   ]
  },
  {
   "cell_type": "code",
   "execution_count": 1,
   "id": "498c30e5-2d94-4e6e-ba42-53c6dde784ac",
   "metadata": {},
   "outputs": [
    {
     "name": "stdout",
     "output_type": "stream",
     "text": [
      "Squares of all the numbers in the given list [1, 4, 9, 16, 25, 36, 49, 64, 81, 100]\n"
     ]
    }
   ],
   "source": [
    "l2 = [1, 2, 3, 4, 5, 6, 7, 8, 9, 10]\n",
    "sq_num = list(map(lambda x: x**2,l2))\n",
    "print(\"Squares of all the numbers in the given list\",sq_num)"
   ]
  },
  {
   "cell_type": "raw",
   "id": "000e0de2-04aa-432e-b27e-58a8aba1398f",
   "metadata": {},
   "source": [
    "Q3. Write a python program to convert the given list of integers into a tuple of strings. Use map and\n",
    "lambda functions\n",
    "Given String: [1, 2, 3, 4, 5, 6, 7, 8, 9, 10]\n",
    "Expected output: ('1', '2', '3', '4', '5', '6', '7', '8', '9', '10')\n"
   ]
  },
  {
   "cell_type": "code",
   "execution_count": 26,
   "id": "a3d34b76-1df9-45a5-bdcd-35af2d014d21",
   "metadata": {},
   "outputs": [
    {
     "name": "stdout",
     "output_type": "stream",
     "text": [
      " A tuple of strings: ('1', '2', '3', '4', '5', '6', '7', '8', '9', '10')\n"
     ]
    }
   ],
   "source": [
    "l3 = [1, 2, 3, 4, 5, 6, 7, 8, 9, 10]\n",
    "tupstrn = tuple(map(str,l3))\n",
    "print(\" A tuple of strings:\",tupstrn)"
   ]
  },
  {
   "cell_type": "raw",
   "id": "210e3424-8386-416e-984c-792ad8310343",
   "metadata": {},
   "source": [
    "Q4. Write a python program using reduce function to compute the product of a list containing numbers\n",
    "from 1 to 25.\n"
   ]
  },
  {
   "cell_type": "code",
   "execution_count": 17,
   "id": "14f7c3a3-2f81-4414-a8ff-e9f7e1d1f5ca",
   "metadata": {},
   "outputs": [
    {
     "name": "stdout",
     "output_type": "stream",
     "text": [
      "The product numbers from 1 to 25: 15511210043330985984000000\n"
     ]
    }
   ],
   "source": [
    "from functools import reduce\n",
    "l5 = [1,2,3,4,5,6,7,8,9,10,11,12,13,14,15,16,17,18,19,20,21,22,23,24,25]\n",
    "product_list =reduce(lambda i,j:i*j,l5)\n",
    "print(\"The product numbers from 1 to 25:\",product_list)"
   ]
  },
  {
   "cell_type": "raw",
   "id": "17cb8a45-e69c-4068-87e6-eb6f164072a8",
   "metadata": {},
   "source": [
    "Q5. Write a python program to filter the numbers in a given list that are divisible by 2 and 3 using the\n",
    "filter function.\n",
    "[2, 3, 6, 9, 27, 60, 90, 120, 55, 46]\n"
   ]
  },
  {
   "cell_type": "code",
   "execution_count": 7,
   "id": "a22c1799-5d21-4618-9748-d323265a9a85",
   "metadata": {},
   "outputs": [
    {
     "name": "stdout",
     "output_type": "stream",
     "text": [
      "List that are divisible by 2 and 3 : [6, 60, 90, 120]\n"
     ]
    }
   ],
   "source": [
    "l4 = [2, 3, 6, 9, 27, 60, 90, 120, 55, 46]\n",
    "result_l4 = list(filter(lambda x: x%2 == 0 and x%3 ==0, l4))\n",
    "print(\"List that are divisible by 2 and 3 :\",result_l4)                 "
   ]
  },
  {
   "cell_type": "raw",
   "id": "8c105878-e59b-4969-9192-ad5caa47531b",
   "metadata": {},
   "source": [
    "Q6. Write a python program to find palindromes in the given list of strings using lambda and filter\n",
    "function.\n",
    "['python', 'php', 'aba', 'radar', 'level']\n"
   ]
  },
  {
   "cell_type": "code",
   "execution_count": 24,
   "id": "8badfa04-617f-48b1-919e-dfce783762f3",
   "metadata": {},
   "outputs": [
    {
     "name": "stdout",
     "output_type": "stream",
     "text": [
      "Palindromes in the given list are : ['php', 'aba', 'radar', 'level']\n"
     ]
    }
   ],
   "source": [
    "l6 = ['python', 'php', 'aba', 'radar', 'level']\n",
    "result_l6 =list(filter(lambda x: (x == \"\".join(reversed(x))), l6))\n",
    "print(\"Palindromes in the given list are :\",result_l6)"
   ]
  },
  {
   "cell_type": "code",
   "execution_count": 27,
   "id": "1c79ecc3-75c0-4522-8334-63e0d6ddc539",
   "metadata": {},
   "outputs": [
    {
     "name": "stdout",
     "output_type": "stream",
     "text": [
      "nohtyp\n",
      "php\n",
      "aba\n",
      "radar\n",
      "level\n"
     ]
    }
   ],
   "source": [
    "for i in l6:\n",
    "    y=\"\".join(reversed(i))\n",
    "    print(y)"
   ]
  },
  {
   "cell_type": "code",
   "execution_count": null,
   "id": "b03dba59-f5dd-417b-89fb-00c918d51787",
   "metadata": {},
   "outputs": [],
   "source": []
  }
 ],
 "metadata": {
  "kernelspec": {
   "display_name": "Python 3 (ipykernel)",
   "language": "python",
   "name": "python3"
  },
  "language_info": {
   "codemirror_mode": {
    "name": "ipython",
    "version": 3
   },
   "file_extension": ".py",
   "mimetype": "text/x-python",
   "name": "python",
   "nbconvert_exporter": "python",
   "pygments_lexer": "ipython3",
   "version": "3.10.8"
  }
 },
 "nbformat": 4,
 "nbformat_minor": 5
}
