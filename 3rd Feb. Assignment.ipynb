{
 "cells": [
  {
   "cell_type": "raw",
   "id": "4ba44865-b80e-4ac3-adc4-2818888eb927",
   "metadata": {},
   "source": [
    "Q1. Which keyword is used to create a function? Create a function to return a list of odd numbers in the\n",
    "range of 1 to 25.\n",
    "\n",
    "Ans. The \"def\" keyword is used to create a function."
   ]
  },
  {
   "cell_type": "code",
   "execution_count": 4,
   "id": "8da53758-bb78-44ef-9b22-12d3835171fe",
   "metadata": {},
   "outputs": [
    {
     "name": "stdout",
     "output_type": "stream",
     "text": [
      "[1, 3, 5, 7, 9, 11, 13, 15, 17, 19, 21, 23]\n"
     ]
    }
   ],
   "source": [
    "def odd_num(f,l):\n",
    "    l1=[]\n",
    "    for i in range (f,l):\n",
    "        if i%2!=0:\n",
    "            l1.append(i)\n",
    "    return l1   \n",
    "\n",
    "print(odd_num(1,25))"
   ]
  },
  {
   "cell_type": "raw",
   "id": "50c7152a-7199-4ac1-a58f-ae44ed935aa2",
   "metadata": {},
   "source": [
    "Q2. Why *args and **kwargs is used in some functions? Create a function each for *args and **kwargs to\n",
    "demonstrate their use.\n",
    "\n",
    "Ans. We use *args and **kwargs as an argument when we are unsure about the number of arguments to pass in the functions."
   ]
  },
  {
   "cell_type": "code",
   "execution_count": 1,
   "id": "7568ac92-6c7b-4518-815c-9d65ee391b30",
   "metadata": {},
   "outputs": [
    {
     "name": "stdout",
     "output_type": "stream",
     "text": [
      "Hey\n",
      "I'm\n",
      "Sahil\n",
      "Anthony\n"
     ]
    }
   ],
   "source": [
    "#function using *args \n",
    "def myIntro(*args): \n",
    "    for arg in args: \n",
    "        print(arg) \n",
    "myIntro('Hey', \"\"\"I'm\"\"\", 'Sahil', 'Anthony') "
   ]
  },
  {
   "cell_type": "code",
   "execution_count": 3,
   "id": "d712c24f-3bdd-47d6-a5a7-4036bd65a83c",
   "metadata": {},
   "outputs": [
    {
     "name": "stdout",
     "output_type": "stream",
     "text": [
      "name == Sahil\n",
      "middle_name == Alexzender\n",
      "last_name == Anthony\n"
     ]
    }
   ],
   "source": [
    "#function using **kwargs \n",
    "\n",
    "def myIntro(**kwargs):\n",
    "    for key, value in kwargs.items():\n",
    "        print(\"%s == %s\" % (key, value))\n",
    " \n",
    " \n",
    "# Driver code\n",
    "myIntro(name='Sahil', middle_name='Alexzender', last_name='Anthony')"
   ]
  },
  {
   "cell_type": "raw",
   "id": "67eb964d-2f3d-4465-afc3-64473070908c",
   "metadata": {},
   "source": [
    "Q3. What is an iterator in python? Name the method used to initialise the iterator object and the method\n",
    "used for iteration. Use these methods to print the first five elements of the given list [2, 4, 6, 8, 10, 12, 14, 16,18, 20].\n",
    "\n",
    "Ans. Iterator in Python are object that are used to iterate over iterable objects like lists, tuples, dicts, sets. The iterator object is initialized using the iter() method. It uses the next() method for iteration.\n",
    "\n",
    "iter(): The iter() method is called for the initialization of an iterator. This returns an iterator object.\n",
    "next(): The next() method returns the next value for the iterable. "
   ]
  },
  {
   "cell_type": "code",
   "execution_count": 5,
   "id": "9e859570-4132-4a67-b4b0-5d17b4e75fb7",
   "metadata": {},
   "outputs": [
    {
     "name": "stdout",
     "output_type": "stream",
     "text": [
      "S\n",
      "A\n",
      "H\n",
      "I\n",
      "L\n"
     ]
    }
   ],
   "source": [
    "#Using iter() & next() methods to print the first five elements of the given list [2, 4, 6, 8, 10, 12, 14, 16,18, 20].\n",
    "\n",
    "name = \"SAHIL\"\n",
    "nm_iterator = iter(name)\n",
    " \n",
    "print(next(nm_iterator))\n",
    "print(next(nm_iterator))\n",
    "print(next(nm_iterator))\n",
    "print(next(nm_iterator))\n",
    "print(next(nm_iterator))\n"
   ]
  },
  {
   "cell_type": "raw",
   "id": "4c9330bd-9cbd-45e5-88a9-ca3edad3d486",
   "metadata": {},
   "source": [
    "Q4. What is a generator function in python? Why yield keyword is used? Give an example of a generator\n",
    "function.\n",
    "\n",
    "Ans. They are a normal function which can generate value whenever it needs. We use \"yield\" keyword other than \n",
    "using return. If the body of a def contains yield, the function automatically becomes a generator function. "
   ]
  },
  {
   "cell_type": "code",
   "execution_count": 18,
   "id": "08e599bb-061d-4e51-873f-079068c794e1",
   "metadata": {},
   "outputs": [
    {
     "name": "stdout",
     "output_type": "stream",
     "text": [
      "0\n",
      "1\n",
      "1\n",
      "2\n",
      "3\n",
      "5\n",
      "8\n"
     ]
    }
   ],
   "source": [
    "#Fibonacci Series using generator function\n",
    "\n",
    "def fib(n):\n",
    "    i,j = 0, 1\n",
    "    while i < n:\n",
    "        yield i\n",
    "        i,j = j, i+j\n",
    " \n",
    "x = fib(11)\n",
    " \n",
    "print(next(x))\n",
    "print(next(x))\n",
    "print(next(x))\n",
    "print(next(x))\n",
    "print(next(x))\n",
    "print(next(x))\n",
    "print(next(x))"
   ]
  },
  {
   "cell_type": "raw",
   "id": "5e266d8c-7d01-4247-9737-d6aa5e65cfd2",
   "metadata": {},
   "source": [
    "Q5. Create a generator function for prime numbers less than 1000. Use the next() method to print the\n",
    "first 20 prime numbers."
   ]
  },
  {
   "cell_type": "code",
   "execution_count": 5,
   "id": "fece6709-343c-4f92-89bb-46a0f1f1c6c0",
   "metadata": {},
   "outputs": [
    {
     "ename": "IndentationError",
     "evalue": "expected an indented block after function definition on line 1 (353901136.py, line 2)",
     "output_type": "error",
     "traceback": [
      "\u001b[0;36m  Cell \u001b[0;32mIn[5], line 2\u001b[0;36m\u001b[0m\n\u001b[0;31m    for i in range(2,n):\u001b[0m\n\u001b[0m    ^\u001b[0m\n\u001b[0;31mIndentationError\u001b[0m\u001b[0;31m:\u001b[0m expected an indented block after function definition on line 1\n"
     ]
    }
   ],
   "source": [
    "def prime_num(n):\n",
    "    for i in range(2,n):\n",
    "        if (n%i) ==0:\n",
    "        \n",
    "    return(n) \n",
    "    \n",
    "y=prime_num(1000)\n",
    "\n",
    "print(next(y))\n",
    "print(next(y))\n",
    "print(next(y))\n",
    "print(next(y))\n",
    "print(next(y))\n",
    "print(next(y))\n",
    "print(next(y))\n",
    "print(next(y))\n",
    "print(next(y))\n",
    "print(next(y))\n",
    "print(next(y))\n",
    "print(next(y))\n",
    "print(next(y))\n",
    "print(next(y))\n",
    "print(next(y))\n",
    "\n",
    "        \n",
    "           \n"
   ]
  }
 ],
 "metadata": {
  "kernelspec": {
   "display_name": "Python 3 (ipykernel)",
   "language": "python",
   "name": "python3"
  },
  "language_info": {
   "codemirror_mode": {
    "name": "ipython",
    "version": 3
   },
   "file_extension": ".py",
   "mimetype": "text/x-python",
   "name": "python",
   "nbconvert_exporter": "python",
   "pygments_lexer": "ipython3",
   "version": "3.10.8"
  }
 },
 "nbformat": 4,
 "nbformat_minor": 5
}
