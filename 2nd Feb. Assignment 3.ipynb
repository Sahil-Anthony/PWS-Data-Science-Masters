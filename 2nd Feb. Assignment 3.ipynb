{
 "cells": [
  {
   "cell_type": "code",
   "execution_count": null,
   "id": "2503eab9-4abe-41f3-a02f-25d20208dd35",
   "metadata": {},
   "outputs": [],
   "source": [
    "\"\"\"\n",
    "Q1. What are the characteristics of the tuples? Is tuple immutable?\n",
    "\n",
    "Ans Yes tuple is immutable and it's Characteristics are:\n",
    "    1. Tuples are immutable.\n",
    "    2. It can have multiple datatypes (Eg. : t= (1,(2,3,5),[1,'sahil',25,'abc']))\n",
    "    3. We cant change elements order in Tuples.\n",
    "    4. It can have multiple identical elements.\n",
    "    5. They are indexable.\n",
    "    \n",
    "\"\"\"    "
   ]
  },
  {
   "cell_type": "code",
   "execution_count": null,
   "id": "f36774a2-e0b6-4dc0-865c-2aa27f7ec78c",
   "metadata": {},
   "outputs": [],
   "source": [
    "Q2. What are the two tuple methods in python? Give an example of each method. Give a reason why\n",
    "tuples have only two in-built methods as compared to Lists.\n",
    "\n",
    "Ans Two Tuple Methods in Pythons are:\n",
    "    1. count()\n",
    "    2. index()\n",
    "    \n",
    "    "
   ]
  },
  {
   "cell_type": "code",
   "execution_count": 8,
   "id": "e2440ff6-71d0-4e4e-93c9-7c780b36f7ee",
   "metadata": {},
   "outputs": [
    {
     "name": "stdin",
     "output_type": "stream",
     "text": [
      "Entre No. to get its Count: 3\n"
     ]
    },
    {
     "name": "stdout",
     "output_type": "stream",
     "text": [
      "Count of 3 is 3\n"
     ]
    }
   ],
   "source": [
    "#Example for tuple Count() Method\n",
    "n = int(input(\"Entre No. to get its Count:\"))\n",
    "t1 = (1,2,3,4,5,6,6,3,2,5,7,10,3)\n",
    "cnt_mth = t1.count(n)\n",
    "print(\"Count of\",n,\"is\",cnt_mth)"
   ]
  },
  {
   "cell_type": "code",
   "execution_count": 12,
   "id": "17432d69-7e95-4408-93e6-f796fbc814d5",
   "metadata": {},
   "outputs": [
    {
     "name": "stdin",
     "output_type": "stream",
     "text": [
      "Entre No. to get its Index: 7\n"
     ]
    },
    {
     "name": "stdout",
     "output_type": "stream",
     "text": [
      "Index of 7 is 10\n"
     ]
    }
   ],
   "source": [
    "#Example for tuple Index() Method\n",
    "n = int(input(\"Entre No. to get its Index:\"))\n",
    "in_mth =t1.index(n)\n",
    "print(\"Index of\",n,\"is\",in_mth)"
   ]
  },
  {
   "cell_type": "code",
   "execution_count": null,
   "id": "5ea44242-5ee1-4000-9090-c733b8ba4ec2",
   "metadata": {},
   "outputs": [],
   "source": [
    "Reason that tuples have only two in-built methods as compared to Lists are :\n",
    "\n",
    "1.Tuples are immutable as the lists are mutable.\n",
    "2.Tuples are more memory efficient than list\n",
    "3.Tuples have a slight advantage over the lists especially when we consider lookup value or when it comes to the time efficiency\n",
    "4.If you have data that shouldn’t change, we should choose tuple over lists.\n",
    "\n"
   ]
  },
  {
   "cell_type": "code",
   "execution_count": null,
   "id": "7c393d41-d1d6-4797-a174-283f76992382",
   "metadata": {},
   "outputs": [],
   "source": [
    "Q3. Which collection datatypes in python do not allow duplicate items? Write a code using a set to remove\n",
    "duplicates from the given list.\n",
    "\n",
    "Ans 'Set datatypes' in python do not allow duplicate items.\n"
   ]
  },
  {
   "cell_type": "code",
   "execution_count": 15,
   "id": "94e9ab6c-d7c0-44ee-a808-90cb23d2ca8a",
   "metadata": {},
   "outputs": [
    {
     "name": "stdout",
     "output_type": "stream",
     "text": [
      "{1, 2, 3, 4}\n"
     ]
    }
   ],
   "source": [
    "#code using a set to remove duplicates from the given list.\n",
    "List = [1, 1, 1, 2, 1, 3, 1, 4, 2, 1, 2, 2, 2, 3, 2, 4, 3, 1, 3, 2, 3, 3, 3, 4, 4, 1, 4, 2, 4, 3, 4, 4]\n",
    "output_ = set(List)\n",
    "print(output_)"
   ]
  },
  {
   "cell_type": "code",
   "execution_count": null,
   "id": "8bd54702-e8e7-4887-af3e-aa1af7e43012",
   "metadata": {},
   "outputs": [],
   "source": [
    "Q4. Explain the difference between the union() and update() methods for a set. Give an example of each method.\n",
    "\n",
    "Ans Difference between the union() and update() methods for a set are:\n",
    "    \n",
    "1.update()-update() method updates the current set, by adding items from any other set; if any identical items are present in orginal and specified sets, thenonly one appearance of this item will be present in the updated set.    \n",
    "\n",
    "2.union()- union() method creates a new set by all items from the original set and from a specified sets.\n"
   ]
  },
  {
   "cell_type": "code",
   "execution_count": 9,
   "id": "1ca9fec5-a30c-471b-baba-6f3327aab1f2",
   "metadata": {},
   "outputs": [
    {
     "name": "stdout",
     "output_type": "stream",
     "text": [
      "{1, 2, 3, 4, 5, 6}\n"
     ]
    }
   ],
   "source": [
    "#An example using union() methods :\n",
    "s1 = {1,2,3,4,5,6}\n",
    "s2 = {4,5,6,7,8,9}\n",
    "s3 = {7,8,9,10}\n",
    "\n",
    "union_set = s1.union(s2,s3)\n",
    "print(union_set)\n"
   ]
  },
  {
   "cell_type": "code",
   "execution_count": 14,
   "id": "daab465c-9727-4d69-946b-81db9246098f",
   "metadata": {},
   "outputs": [
    {
     "name": "stdout",
     "output_type": "stream",
     "text": [
      "{'microsoft', 'apple', 'mark', 'larry', 'allen', 'google', 'mango', 'carrot', 'melon', 'bezos'}\n"
     ]
    }
   ],
   "source": [
    "#An example using update() methods \n",
    "\n",
    "x = {\"carrot\", \"melon\", \"mango\"}\n",
    "y = {\"google\", \"microsoft\", \"apple\"}\n",
    "z = {\"larry\",\"mark\",\"bezos\",\"allen\"}\n",
    "\n",
    "x.update(y,z)\n",
    "\n",
    "print(x)"
   ]
  },
  {
   "cell_type": "code",
   "execution_count": null,
   "id": "57dc936a-9d31-44b3-bcaa-cd84afdc266d",
   "metadata": {},
   "outputs": [],
   "source": [
    "Q5. What is a dictionary? Give an example. Also, state whether a dictionary is ordered or unordered.\n",
    "\n",
    "Ans Dictionaries are unordered and changeable collections of key-value pairs.Dictionary is classified into two elements: Keys and Values and every pair in the dictionary maps its key to its associated value making it more optimized. It is declared by enclosing a comma-separated list of key-value pairs using curly braces. We cant index dictionary.\n",
    "\n",
    "In dictionary Keys must be immutable like numbers,tuples or strings and cannot be a special case characters and cannot be list or a set (as list and set are unhasable) where as the values in the dictionary can be of any type."
   ]
  },
  {
   "cell_type": "code",
   "execution_count": null,
   "id": "9f204287-854e-4a2d-b516-11613ef3e7c7",
   "metadata": {},
   "outputs": [],
   "source": [
    "\"\"\"Q6. Can we create a nested dictionary? If so, please give an example by creating a simple one-level nested dictionary.\n",
    "\n",
    "Ans Yes, we can create a nested dictionary.\n",
    "\"\"\"\n"
   ]
  },
  {
   "cell_type": "code",
   "execution_count": 4,
   "id": "5246f0ec-a107-4360-a34f-f58b7c5373a2",
   "metadata": {},
   "outputs": [
    {
     "name": "stdout",
     "output_type": "stream",
     "text": [
      "Shudhanshu\n"
     ]
    }
   ],
   "source": [
    "#example by creating a simple one-level nested dictionary\n",
    "\n",
    "DSM_class = {'session_1':{'Subject':'Statistics','Teacher':'Krish'},\n",
    "            'session_2':{'Subject':'Mathematics','Teacher':'Shudhanshu'}}\n",
    "\n",
    "print(DSM_class['session_2']['Teacher'])"
   ]
  },
  {
   "cell_type": "code",
   "execution_count": null,
   "id": "33bfe7b6-b6b4-4ae2-b8e3-62d9363bc444",
   "metadata": {},
   "outputs": [],
   "source": [
    "Q7. Using setdefault() method, create key named topics in the given dictionary and also add the value of the key as this list ['Python', 'Machine Learning’, 'Deep Learning']\n",
    "dict1 = {'language' : 'Python', 'course': 'Data Science Masters'}\n",
    "\n",
    "sol."
   ]
  },
  {
   "cell_type": "code",
   "execution_count": 10,
   "id": "8d232fb9-cb28-4b7b-8a79-39d54be02784",
   "metadata": {},
   "outputs": [
    {
     "name": "stdout",
     "output_type": "stream",
     "text": [
      "{'language': 'Python', 'course': 'Data Science Masters', \"['Python', 'Machine Learning’, 'Deep Learning']\": None}\n"
     ]
    }
   ],
   "source": [
    "#Using setdefault() method, create key named topics in the given dictionary and also add the value of the key as this list \n",
    "#['Python', 'Machine Learning’, 'Deep Learning']; dict1 = {'language' : 'Python', 'course': 'Data Science Masters'}\n",
    "\n",
    "dict1 = {'language' : 'Python', 'course': 'Data Science Masters'}\n",
    "dict1.setdefault(\"['Python', 'Machine Learning’, 'Deep Learning']\")\n",
    "print(dict1)\n",
    "\n"
   ]
  },
  {
   "cell_type": "code",
   "execution_count": null,
   "id": "8e56a5b9-263a-4427-aec4-212c74840656",
   "metadata": {},
   "outputs": [],
   "source": [
    "\"\"\"\n",
    "Q8. What are the three view objects in dictionaries? Use the three in-built methods in python to display\n",
    "these three view objects for the given dictionary.dict1 = {'Sport': 'Cricket' , 'Teams': ['India', 'Australia', 'England', 'South Africa', 'Sri Lanka', 'New Zealand']}\n",
    "\n",
    "\n",
    "Ans. The main view objects of dictionary in python are keys, values and items. They provide a non-constant view of the dictionary’s entries.Keys holds all the keys of the dictionary, the values objects holds all the values, whereas the items holds the key-value pairs.\n",
    "\n",
    "EXAMPLE :\n",
    "\"\"\""
   ]
  },
  {
   "cell_type": "code",
   "execution_count": 17,
   "id": "a88cf96e-91e4-410a-abe3-20252d2d117f",
   "metadata": {},
   "outputs": [
    {
     "name": "stdout",
     "output_type": "stream",
     "text": [
      "dict_keys(['Sport', 'Teams'])\n",
      "<class 'dict_keys'>\n"
     ]
    }
   ],
   "source": [
    "#Using the three in-built view objects methods in python to display for the given dictionary   .\n",
    "dict1 = {'Sport': 'Cricket' , 'Teams': ['India', 'Australia', 'England', 'South Africa', 'Sri Lanka', 'New Zealand']}\n",
    "\n",
    "#Using the Key in-built view objects methods\n",
    "\n",
    "k = dict1.keys()\n",
    "print(k)\n",
    "print(type(k))"
   ]
  },
  {
   "cell_type": "code",
   "execution_count": 15,
   "id": "13356c85-e9c4-4b06-8323-08c851d5edd5",
   "metadata": {},
   "outputs": [
    {
     "name": "stdout",
     "output_type": "stream",
     "text": [
      "dict_values(['Cricket', ['India', 'Australia', 'England', 'South Africa', 'Sri Lanka', 'New Zealand']])\n",
      "<class 'dict_values'>\n"
     ]
    }
   ],
   "source": [
    "#Using the Value in-built view objects methods\n",
    "\n",
    "v = dict1.values()\n",
    "print(v)\n",
    "print(type(v))"
   ]
  },
  {
   "cell_type": "code",
   "execution_count": 16,
   "id": "4a809ff8-15b7-4d08-86c6-a1e06fce8fdd",
   "metadata": {},
   "outputs": [
    {
     "name": "stdout",
     "output_type": "stream",
     "text": [
      "dict_items([('Sport', 'Cricket'), ('Teams', ['India', 'Australia', 'England', 'South Africa', 'Sri Lanka', 'New Zealand'])])\n",
      "<class 'dict_items'>\n"
     ]
    }
   ],
   "source": [
    "#Using the Items in-built view objects methods\n",
    "\n",
    "i = dict1.items()\n",
    "print(i)\n",
    "print(type(i))"
   ]
  },
  {
   "cell_type": "code",
   "execution_count": null,
   "id": "61c5286b-b79b-432e-9210-48cdc6436716",
   "metadata": {},
   "outputs": [],
   "source": []
  }
 ],
 "metadata": {
  "kernelspec": {
   "display_name": "Python 3 (ipykernel)",
   "language": "python",
   "name": "python3"
  },
  "language_info": {
   "codemirror_mode": {
    "name": "ipython",
    "version": 3
   },
   "file_extension": ".py",
   "mimetype": "text/x-python",
   "name": "python",
   "nbconvert_exporter": "python",
   "pygments_lexer": "ipython3",
   "version": "3.10.8"
  }
 },
 "nbformat": 4,
 "nbformat_minor": 5
}
