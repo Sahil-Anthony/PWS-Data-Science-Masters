{
 "cells": [
  {
   "cell_type": "code",
   "execution_count": 1,
   "id": "fe5a2f83-b289-4d4d-bea0-5785bdc860a0",
   "metadata": {},
   "outputs": [],
   "source": [
    "#Ql. What is Statistics?\n",
    "\n",
    "#Ans Statistics is a study of collection, analysis, interpretation, presentation, and organization of data."
   ]
  },
  {
   "cell_type": "code",
   "execution_count": 2,
   "id": "716e5d9c-3932-4fb9-bac5-ec517eddf88e",
   "metadata": {},
   "outputs": [],
   "source": [
    "#Q2. Define the different types of statistics and give an example of when each type might be used.\n",
    "\n",
    "#Ans.Their are two type of statistics:\n",
    "\n",
    "#1. Descriptive Statistics: Part of statistics concerned with organizing and summarizing of data.\n",
    "#Example - Getting average height of the student from student physical health data.\n",
    "\n",
    "#2. Inferential Statistics: Part of statistics concerned with drawing conslusion from data.\n",
    "#Example - Given data of a class section average height of female estimate height of the whole class. "
   ]
  },
  {
   "cell_type": "code",
   "execution_count": 3,
   "id": "81c0a3bc-7cfb-4800-ba70-79a3bdbc371f",
   "metadata": {},
   "outputs": [],
   "source": [
    "\n",
    "#Q3. What are the different types of data and how do they differ from each other? Provide an example of\n",
    "#each type of data.\n",
    "\n",
    "#Ans Their are two types of data type:\n",
    " \n",
    "#1. Qualitative Data\n",
    "#2. Quantitative Data\n",
    "\n",
    "#The both type of data are different from each other as the qualitative data can’t be measured or counted in the form of numbers. These types of data are sorted by category, \n",
    "#not by number. That’s why it is also known as Categorical Data.These data consist of audio, images, symbols, or text. \n",
    "#For example, The gender of a person, i.e., male, female, or others, is qualitative data.\n",
    "\n",
    "#and quantitative data can be expressed in numerical values, making it countable and including statistical data analysis. These kinds of data are also known as Numerical data.\n",
    "#It answers the questions like “how much,” “how many,” and “how often.” \n",
    "#For example, the price of a phone, the computer’s ram, the height or weight of a person, etc., falls under quantitative data. \n"
   ]
  },
  {
   "cell_type": "code",
   "execution_count": 4,
   "id": "9d68891c-6b72-4ae0-bba3-c44da6c3aeaf",
   "metadata": {},
   "outputs": [],
   "source": [
    "#Q4. Categorise the following datasets with respect to quantitative and qualitative data types:\n",
    "\n",
    "#(i) Grading in exam: A+, A, B+, B,C+,C, D, E\n",
    "#Ans quantitative\n",
    "\n",
    "#(ii) Colour of mangoes: yellow, green, orange, red\n",
    "#Ans quantitative\n",
    "\n",
    "#(iii) Height data of a class: [178.9, 179, 179.5, 176, 177.2, 178.3, 175.8,...]\n",
    "#Ans  qualitative \n",
    "\n",
    "#(iv) Number of mangoes exported by a farm: [500, 600, 478, 672, ...]\n",
    "#Ans  qualitative \n"
   ]
  },
  {
   "cell_type": "code",
   "execution_count": null,
   "id": "efae7df5-bdaf-4a67-bd37-6e9ea608946b",
   "metadata": {},
   "outputs": [],
   "source": [
    "#Q5. Explain the concept of levels of measurement and give an example of a variable for each level.\n",
    "\n",
    "#Ans Types of Levels of Measurement with Examples:\n",
    "\n",
    "#1. Nominal Scale - It's the measurement of the numerical values just “name” the attribute uniquely. No ordering of the cases is implied.\n",
    "\n",
    "#Example --> Jersey No.\n",
    "\n",
    "\n",
    "#2. Ordinal Scale - It's the measurement of the attributes can be rank-ordered.\n",
    "\n",
    "#Example --> Customer Satisfaction \n",
    "\n",
    "\n",
    "#3. Interval Scale - It's the measurement the distance between attributes does have meaning. \n",
    "\n",
    "#Example --> Temperature \n",
    "\n",
    "\n",
    "#4. Ratio Scale - It's the measurement there is always an absolute zero that is meaningful. \n",
    "\n",
    "#Example --> Measuring Money "
   ]
  },
  {
   "cell_type": "code",
   "execution_count": null,
   "id": "84bddf04-4b22-470b-a54a-5323bbc285fa",
   "metadata": {},
   "outputs": [],
   "source": [
    "#Q6. Why is it important to understand the level of measurement when analyzing data? Provide an example to illustrate your answer.\n",
    "\n",
    "#Levels of Measurement or Scale of Measurement are very important measurement for analyzing data because of the following :\n",
    "#1.As it Determines the type of statistical test to be or should be performed\n",
    "#2.It affects the interpretation of the result.\n",
    "\n",
    "\n",
    "#Examples:"
   ]
  },
  {
   "cell_type": "code",
   "execution_count": null,
   "id": "a7913b3e-0d0f-4539-b974-818087e4f56c",
   "metadata": {},
   "outputs": [],
   "source": [
    "#Q7. How nominal data type is different from ordinal data type.\n",
    "\n",
    "#Ans.\n",
    "#1.Nominal data can’t be quantified, neither they have any intrinsic ordering\tOrdinal data gives some kind of sequential order by their position on the scale\n",
    "#2.Nominal data is qualitative data or categorical data where as Ordinal data is said to be “in-between” qualitative data and quantitative data\n",
    "#3.They don’t provide any quantitative value, neither can we perform any arithmetical operation and in odinal they provide sequence and can assign numbers to ordinal data but cannot perform the arithmetical operation\n",
    "#4.Nominal data cannot be used to compare with one another and Ordinal data can help to compare one item with another by ranking or ordering\n"
   ]
  },
  {
   "cell_type": "code",
   "execution_count": null,
   "id": "0ccfcb44-6301-4adf-b6f8-7c9ccd01ec5e",
   "metadata": {},
   "outputs": [],
   "source": [
    "#Q8. Which type of plot can be used to display data in terms of range?\n",
    "\n",
    "#Ans. Histogram. If the groups depicted in a bar chart are actually continuous numeric ranges, we can push the bars together to generate a histogram. \n",
    "#Bar lengths in histograms typically correspond to counts of data points, and their patterns demonstrate the distribution of variables in your data."
   ]
  },
  {
   "cell_type": "code",
   "execution_count": null,
   "id": "5110370b-4743-4b7a-8bd9-882b3ff6f193",
   "metadata": {},
   "outputs": [],
   "source": [
    "#Q9. Describe the difference between descriptive and inferential statistics. Give an example of each\n",
    "#type of statistics and explain how they are used.\n",
    "\n",
    "#Q9. Describe the difference between descriptive and inferential statistics. Give an example of each\n",
    "#type of statistics and explain how they are used.\n",
    "\n",
    "#Ans.\n",
    "#In Descriptive Statistics:\n",
    "#It gives information about raw data which describes the data in some manner.\n",
    "#It helps in organizing, analyzing, and to present data in a meaningful manner.\n",
    "#It is used to describe a situation.\n",
    "#It explains already known data and is limited to a sample or population having a small size.\n",
    "#It can be achieved with the help of charts, graphs, tables, etc.\n",
    "\n",
    "#Example- Suppose the scores of 100 students belonging to a specific country are available. The performance of these students needs to be examined. This data by itself will not yield any valuable results. However, by using descriptive statistics, the spread of the marks can be obtained thus, giving a clear idea regarding the performance of each student.\n",
    "\n",
    "#Where as in Inferential Statistics\n",
    "#It makes inferences about the population using data drawn from the population.\n",
    "#It allows us to compare data, and make hypotheses and predictions.\n",
    "#It is used to explain the chance of occurrence of an event.\n",
    "#It attempts to reach the conclusion about the population.\n",
    "#It can be achieved by probability.\n",
    "\n",
    "#Example - Suppose the scores of the students of an entire country need to be examined. Using a sample of, say 100 students, inferential statistics is used to make generalizations about the population.\n",
    "\n",
    "\n",
    "\n",
    "\n",
    "\n",
    "\n"
   ]
  },
  {
   "cell_type": "code",
   "execution_count": null,
   "id": "6f466209-40e0-478e-8de8-06899a44b0e5",
   "metadata": {},
   "outputs": [],
   "source": [
    "#Q10. What are some common measures of central tendency and variability used in statistics? Explain how each measure can used to describe a dataset.\n",
    "\n",
    "#Ans.\n",
    "#Measures of central tendency-\n",
    "#1. Mean-\n",
    "#Mean of a common data set is the sum of the observation divided by the number of observation and it is the most common used in Measure of central tendency.\n",
    "#Mean is the only in Measure of central to be affected by the Outliers.\n",
    "\n",
    "#2. Median -\n",
    "#Median is the another most common in Measure of central tendency.Median of a data is the number that divides the bottom 50% of the data from the top 50%.\n",
    "#Median is least affected  to the outliers.\n",
    "\n",
    "#3. Mode -\n",
    "#Mode is the most frequent occuring value in a data set.Mode is not affected by the outliers.\n",
    "\n",
    "\n",
    "#Measures of variability - \n",
    "#1. Range-\n",
    "#Range of a data set is the difference between it's largest and the most smallest values. Range is affected by the outliers.\n",
    "\n",
    "#2. Variance-\n",
    "#variance is a measure of how far a set of data (numbers) are spread out from their mean (average) value.\n",
    "\n",
    "#3. Standard Deviation -\n",
    "#measure of how dispersed the data is in relation to the mean. Low standard deviation means data are clustered around the mean, and high standard deviation indicates data are more spread out.\n",
    "\n"
   ]
  },
  {
   "cell_type": "code",
   "execution_count": null,
   "id": "5c31ede4-dba2-437c-9375-064ac6b1dc55",
   "metadata": {},
   "outputs": [],
   "source": [
    "\n"
   ]
  }
 ],
 "metadata": {
  "kernelspec": {
   "display_name": "Python 3 (ipykernel)",
   "language": "python",
   "name": "python3"
  },
  "language_info": {
   "codemirror_mode": {
    "name": "ipython",
    "version": 3
   },
   "file_extension": ".py",
   "mimetype": "text/x-python",
   "name": "python",
   "nbconvert_exporter": "python",
   "pygments_lexer": "ipython3",
   "version": "3.10.8"
  }
 },
 "nbformat": 4,
 "nbformat_minor": 5
}
