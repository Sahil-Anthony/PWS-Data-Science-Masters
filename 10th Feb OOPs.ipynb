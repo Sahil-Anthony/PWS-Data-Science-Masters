{
 "cells": [
  {
   "cell_type": "code",
   "execution_count": 1,
   "id": "8ded4179-c589-46a3-ae3e-78813fefe821",
   "metadata": {},
   "outputs": [],
   "source": [
    "#Q1. Which function is used to open a file? What are the different modes of opening a file? Explain each mode\n",
    "#of file opening.\n",
    "\n",
    "#Ans.Python has a built-in function i.e 'open()' to open a file; it returns a file object, also called as handle as it is use to read or modify a file accordingly.\n",
    "\n"
   ]
  },
  {
   "cell_type": "code",
   "execution_count": 2,
   "id": "1a408f75-2d03-45fa-ae20-356ac6d36262",
   "metadata": {},
   "outputs": [],
   "source": [
    "\n",
    "#Q2. Why close() function is used? Why is it important to close a file?\n",
    "\n",
    "#Ans. 'close()' function is used to close a file.It is important since closing a file will free up the resources that were tied with file.\n"
   ]
  },
  {
   "cell_type": "code",
   "execution_count": 6,
   "id": "953be662-7108-4e9f-8df1-23cd1a4af55f",
   "metadata": {},
   "outputs": [
    {
     "name": "stdout",
     "output_type": "stream",
     "text": [
      "I want to become a Data Scientist\n"
     ]
    }
   ],
   "source": [
    "#Q3. Write a python program to create a text file. Write ‘I want to become a Data Scientist’ in that file. \n",
    "#Then close the file. Open this file and read the content of the file.\n",
    "\n",
    "\n",
    "f= open(\"my_self.txt\",'w')\n",
    "f.write(\"I want to become a Data Scientist\")\n",
    "f.close\n",
    "\n",
    "\n",
    "f = open(\"my_self.txt\", \"r\")\n",
    "print(f.read())"
   ]
  },
  {
   "cell_type": "code",
   "execution_count": 4,
   "id": "f72d68d8-4a22-4826-9c9b-ba0ef51653d4",
   "metadata": {},
   "outputs": [],
   "source": [
    "#Q4. Explain the following with python code: read(), readline() and readlines().\n",
    "\n",
    "#Ans.\n",
    "#read() - it read and return whole text thou we call it or specify num of charaters to be returned.\n",
    "#readline() -  It reads individual lines of a file.  \n",
    "#readlines() - It returns a list of lins in the file."
   ]
  },
  {
   "cell_type": "code",
   "execution_count": null,
   "id": "2c6e4df1-eefd-490b-bdcd-34ba185bb634",
   "metadata": {},
   "outputs": [],
   "source": [
    "#Q5. Explain why with statement is used with open(). What is the advantage of using with statement and open() together?\n",
    "\n",
    "#Ans. The with' statement works with the open() function to open a file. Unlike open() where you have to close the file with the close() method, the with' statement closes the file for you without you telling it to. This is because the 'with' statement calls 2 built-in methods behind the scene – __enter()__ and __exit.Advantage of using with statement and open() together is that it guarantee to close the file no matter how the nested block exits.If an exception occurs before the end of the block,it will close the file before the exception is caught by an outer exception handler"
   ]
  }
 ],
 "metadata": {
  "kernelspec": {
   "display_name": "Python 3 (ipykernel)",
   "language": "python",
   "name": "python3"
  },
  "language_info": {
   "codemirror_mode": {
    "name": "ipython",
    "version": 3
   },
   "file_extension": ".py",
   "mimetype": "text/x-python",
   "name": "python",
   "nbconvert_exporter": "python",
   "pygments_lexer": "ipython3",
   "version": "3.10.8"
  }
 },
 "nbformat": 4,
 "nbformat_minor": 5
}
