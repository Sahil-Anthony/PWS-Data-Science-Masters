{
 "cells": [
  {
   "cell_type": "code",
   "execution_count": 1,
   "id": "c1fe8106-a310-43ca-a1b2-58d80e11c0c0",
   "metadata": {},
   "outputs": [],
   "source": [
    "#Q1. What are the three measures of central tendency?\n",
    "\n",
    "#Ans There are three Measure of Central Tendency :\n",
    "\n",
    "#1.Mean\n",
    "#2.Median\n",
    "#3.Mode"
   ]
  },
  {
   "cell_type": "code",
   "execution_count": 2,
   "id": "d2d3b97d-d1d6-4340-b98b-ab87246bfe64",
   "metadata": {},
   "outputs": [],
   "source": [
    "#Q2. Whatis the difference between the mean, median, and mode? How are they used to measure the central tendency of a dataset?\n",
    "\"\"\"\n",
    "Ans. The Major difference between the mean, median, and mode is The mean (average) of a data set is found by adding \n",
    "all numbers in the data set and then dividing by the number of values in the set. The median is the middle value \n",
    "when a data set is ordered from least to greatest. The mode is the number that occurs most often in a data set. \n",
    "\n",
    "A measure of central tendency (also referred to as measures of centre or central location) is a summary measure \n",
    "that attempts to describe a whole set of data with a single value that represents the middle or centre of its distribution. \n",
    "\n",
    "\"\"\"\n",
    "\n"
   ]
  },
  {
   "cell_type": "code",
   "execution_count": 2,
   "id": "2630ed5d-8a75-46c7-94da-22097194bf39",
   "metadata": {},
   "outputs": [
    {
     "name": "stdout",
     "output_type": "stream",
     "text": [
      "Mean is 177.01875\n",
      "Median is 177.0\n",
      "Mode is ModeResult(mode=array([177.]), count=array([3]))\n"
     ]
    },
    {
     "name": "stderr",
     "output_type": "stream",
     "text": [
      "/tmp/ipykernel_108/1838628571.py:15: FutureWarning: Unlike other reduction functions (e.g. `skew`, `kurtosis`), the default behavior of `mode` typically preserves the axis it acts along. In SciPy 1.11.0, this behavior will change: the default value of `keepdims` will become False, the `axis` over which the statistic is taken will be eliminated, and the value None will no longer be accepted. Set `keepdims` to True or False to avoid this warning.\n",
      "  mode = stats.mode(list1)\n"
     ]
    }
   ],
   "source": [
    "#Q3. Measure the three measures of central tendency for the given height data:[178,177,176,177,178.2,178,175,179,180,175,178.9,176.2,177,172.5,178,176.5]\n",
    "#Ans.\n",
    "#1. Mean:\n",
    "import numpy as np\n",
    "list1 =[178,177,176,177,178.2,178,175,179,180,175,178.9,176.2,177,172.5,178,176.5]\n",
    "mean = np.mean(list1)\n",
    "print(\"Mean is\",mean)\n",
    "\n",
    "#2.Median:\n",
    "Median =np.median(list1)\n",
    "print(\"Median is\",Median)\n",
    "\n",
    "#3. Mode\n",
    "from scipy import stats\n",
    "mode = stats.mode(list1)\n",
    "print(\"Mode is\",mode)\n"
   ]
  },
  {
   "cell_type": "code",
   "execution_count": 10,
   "id": "d8457e9b-e4d9-44ee-a616-cf925cae03db",
   "metadata": {},
   "outputs": [
    {
     "name": "stdout",
     "output_type": "stream",
     "text": [
      "Standard Deviation is 1.7885814036548633\n"
     ]
    }
   ],
   "source": [
    "#Q4. Find the standard deviation for the given data:\n",
    "#[178,177,176,177,178.2,178,175,179,180,175,178.9,176.2,177,172.5,178,176.5]\n",
    "\n",
    "#Ans.\n",
    "#Standard Deviation :\n",
    "\n",
    "list2 =[178,177,176,177,178.2,178,175,179,180,175,178.9,176.2,177,172.5,178,176.5]\n",
    "std_dev = np.std(list2)\n",
    "print(\"Standard Deviation is\",std_dev)"
   ]
  },
  {
   "cell_type": "code",
   "execution_count": null,
   "id": "1b0bcd77-3952-4c99-95fa-133e8058bafa",
   "metadata": {},
   "outputs": [],
   "source": [
    "#Q5.How are measures of dispersion such as range, variance, and standard deviation used to describe the spread of a dataset? Provide an example.\n",
    "\n",
    "\"\"\"\n",
    "Range -\n",
    "The range is the easiest dispersion of data or measure of variability.The wide range indicates high variability, and \n",
    "the small range specifies low variability in the distribution. \n",
    "\n",
    "Variance -\n",
    "Variance is a simple measure of dispersion. Variance measures how far each number in the dataset from the mean.\n",
    "\n",
    "Standard Deviation\n",
    "Standard deviation is a squared root of the variance to get original values. Low standard deviation indicates \n",
    "data points close to mean.\n",
    "\n",
    "\n",
    "EXAMPLE\n",
    "\"\"\"\n"
   ]
  },
  {
   "cell_type": "code",
   "execution_count": null,
   "id": "c43a438e-fad6-4ae8-b130-6393af788aac",
   "metadata": {},
   "outputs": [],
   "source": [
    "#Q6.What is a Venn diagram?\n",
    "\"\"\"\n",
    "Ans - A Venn diagram is an illustration that uses circles to show the relationships among things or finite groups of \n",
    "things. Circles that overlap have a commonality while circles that do not overlap do not share those traits. Venn \n",
    "diagrams help to visually represent the similarities and differences between two concepts.\n",
    "\"\"\""
   ]
  },
  {
   "cell_type": "code",
   "execution_count": 7,
   "id": "224d2c27-e4d1-4e86-91bb-bc8478c263b6",
   "metadata": {},
   "outputs": [
    {
     "name": "stdout",
     "output_type": "stream",
     "text": [
      "Intersection of A and B is:  [2, 6]\n",
      "Union of A and B is: [0, 2, 2, 3, 4, 5, 6, 6, 7, 8, 10]\n"
     ]
    }
   ],
   "source": [
    "#Q7. For the two given sets A = (2,3,4,5,6,7) & B = (0,2,6,8,10). \n",
    "#Find:\n",
    "#(i) A∩B\n",
    "\n",
    "def intersection(lst1, lst2):\n",
    "    lst3 = [value for value in lst1 if value in lst2]\n",
    "    return lst3\n",
    "\n",
    "A = (2,3,4,5,6,7)\n",
    "B = (0,2,6,8,10)\n",
    "print(\"Intersection of A and B is: \",intersection(A, B))\n",
    "\n",
    "\n",
    "#(ii) AUB\n",
    "def Union(lst1, lst2):\n",
    "    final_list = sorted(lst1 + lst2)\n",
    "    return final_list\n",
    " \n",
    "print(\"Union of A and B is:\",Union(A,B))\n"
   ]
  },
  {
   "cell_type": "code",
   "execution_count": null,
   "id": "ccd8de92-c99f-4e6e-ac4f-a8b92d4d0e62",
   "metadata": {},
   "outputs": [],
   "source": [
    "#Q8. What do you understand about skewness in data?\n",
    "\"\"\"\n",
    "Skewness is a measure of the asymmetry of a distribution. A distribution is asymmetrical when its left and right \n",
    "side are not mirror images. You might want to calculate the skewness of a distribution to: Describe the distribution \n",
    "of a variable alongside other descriptive statistics.\n",
    "\"\"\""
   ]
  },
  {
   "cell_type": "code",
   "execution_count": null,
   "id": "2b2ae538-f531-4e13-9430-8112d426f8a8",
   "metadata": {},
   "outputs": [],
   "source": [
    "#Q9.If a dataset right skewed then what will be the position of median with respect to mean?\n",
    "\"\"\"\n",
    "Ans. \n",
    "If the distribution of data is skewed to the right, the mode is often less than the median, which is less than the mean.\n",
    "\"MODE<MEDIAN<MEAN\"\n",
    "\"\"\""
   ]
  },
  {
   "cell_type": "code",
   "execution_count": null,
   "id": "e7700ef3-1d54-4c46-aa0f-20d6ebb24d2d",
   "metadata": {},
   "outputs": [],
   "source": [
    "#Q10. Explain the difference between covariance and correlation. How are these measures used in statistical analysis?\n",
    "\"\"\"\n",
    "Ans. \n",
    "1.Covariance is an indicator of the extent to which 2 random variables are dependent on each other. A higher \n",
    "number denotes higher dependency where as Correlation is a statistical measure that indicates how strongly two variables are related.\n",
    "\n",
    "2.The value of covariance lies in the range of -∞ and +∞ and Correlation is limited to values between the range -1 and +1\n",
    "\n",
    "3.Change in scale affects covariance where as correlation is not affect the change in scale.\n",
    "\n",
    "4.Correlation is a Unit-free measure where as covariance in not a Unit-free measure. \n",
    "\n",
    "Covariance and correlation are two terms that are opposed and are both used in statistics and regression analysis. \n",
    "Covariance shows you how the two variables differ, whereas correlation shows you how the two variables are related. \n",
    "\n",
    "\"\"\""
   ]
  },
  {
   "cell_type": "code",
   "execution_count": 3,
   "id": "7ba46127-4f2b-4dc9-acbb-296814d0583d",
   "metadata": {},
   "outputs": [
    {
     "name": "stdout",
     "output_type": "stream",
     "text": [
      "Average Height of students is: 68.7911111111111\n"
     ]
    }
   ],
   "source": [
    "#Q11. What is the formula for calculating the sample mean? Provide an example calculation for a dataset.\n",
    "\"\"\"\n",
    "Ans. The formula for calculating the sample mean:\n",
    "\n",
    "Sample Mean = (Sum of terms) ÷ (Number of Terms) = ∑(xi)/n\n",
    "\n",
    "EXAMPLE:\n",
    "Finding Average Height of Students;Heights:(65.78,71.52,69.4,68.22,67.79,68.7,69.8,70.01,67.9\t) \n",
    "\"\"\"\n",
    "\n",
    "Height=[65.78,71.52,69.4,68.22,67.79,68.7,69.8,70.01,67.9]\n",
    "mean = np.mean(Height)\n",
    "print(\"Average Height of students is:\",mean)\n"
   ]
  },
  {
   "cell_type": "code",
   "execution_count": null,
   "id": "174fe5d7-217a-415a-9434-49c5236c5d46",
   "metadata": {},
   "outputs": [],
   "source": [
    "#Q12. For a normal distribution data what is the relationship between its measure of central tendency?\n",
    "\"\"\"\n",
    "Ans.Any normal distribution has a graph that is perfectly symmetric about a vertical line through its peak. Therefore, \n",
    "all measures of central tendency (most commonly, the mean, median, and mode) give the same answer: the x -value of \n",
    "the peak.\n",
    "\"\"\"\n"
   ]
  },
  {
   "cell_type": "code",
   "execution_count": null,
   "id": "935ea2dc-8213-4b87-ae1d-5ec8b4726659",
   "metadata": {},
   "outputs": [],
   "source": [
    "#Q13. How is covariance different from correlation?\n",
    "\"\"\"\n",
    "Ans. \n",
    "1.Covariance is an indicator of the extent to which 2 random variables are dependent on each other. A higher \n",
    "number denotes higher dependency where as Correlation is a statistical measure that indicates how strongly two variables are related.\n",
    "\n",
    "2.The value of covariance lies in the range of -∞ and +∞ and Correlation is limited to values between the range -1 and +1\n",
    "\n",
    "3.Change in scale affects covariance where as correlation is not affect the change in scale.\n",
    "\n",
    "4.Correlation is a Unit-free measure where as covariance in not a Unit-free measure. \n",
    "\n",
    "\"\"\""
   ]
  },
  {
   "cell_type": "code",
   "execution_count": 5,
   "id": "af2cfda8-1ab8-4fe1-b03f-a28414639f6d",
   "metadata": {},
   "outputs": [
    {
     "name": "stdout",
     "output_type": "stream",
     "text": [
      "Mean without Outlier 177.01875\n",
      "Mean with Outlier 189.64375\n",
      "Median without Outlier 177.0\n",
      "Median with Outlier 177.0\n",
      "Mode without Outlier ModeResult(mode=array([177.]), count=array([3]))\n",
      "Mode with Outlier ModeResult(mode=array([177.]), count=array([3]))\n",
      "Variance with Outlier 1.7885814036548633\n",
      "Variance with Outlier 49.181652686113544\n",
      "Standard Deviation with Outlier 1.7885814036548633\n",
      "Standard Deviation without Outlier 49.181652686113544\n"
     ]
    },
    {
     "name": "stderr",
     "output_type": "stream",
     "text": [
      "/tmp/ipykernel_114/1058882736.py:58: FutureWarning: Unlike other reduction functions (e.g. `skew`, `kurtosis`), the default behavior of `mode` typically preserves the axis it acts along. In SciPy 1.11.0, this behavior will change: the default value of `keepdims` will become False, the `axis` over which the statistic is taken will be eliminated, and the value None will no longer be accepted. Set `keepdims` to True or False to avoid this warning.\n",
      "  mode = stats.mode(list3)\n",
      "/tmp/ipykernel_114/1058882736.py:63: FutureWarning: Unlike other reduction functions (e.g. `skew`, `kurtosis`), the default behavior of `mode` typically preserves the axis it acts along. In SciPy 1.11.0, this behavior will change: the default value of `keepdims` will become False, the `axis` over which the statistic is taken will be eliminated, and the value None will no longer be accepted. Set `keepdims` to True or False to avoid this warning.\n",
      "  mode = stats.mode(list4)\n"
     ]
    }
   ],
   "source": [
    "#Q14. How do outliers affect measures of central tendency and dispersion Provide an example.\n",
    "\"\"\"\n",
    "In Measure of Central Tendency the most affect due to outlier is the Mean; Mean moves toward the outlier, Median is the \n",
    "least affected and Mode has no affect of outliers.In Measure of Dispersion Range is most affected by Outliers Variance\n",
    "and Standard deviation is sensitive to extreme values. A single very extreme value can increase the standard deviation \n",
    "and misrepresent the dispersion. For two data sets with the same mean, the one with the larger standard deviation is the \n",
    "one in which the data is more spread out from the center. Vaiance s greatly affected by extreme values. The variance is the \n",
    "average squared deviation from the mean. It usefulness is limited because the units are squared and not the same as the \n",
    "original data.When a outlier is present it can effect the shape of the graph, if we have outliers to the right of the graph. These \n",
    "outliers are causing the mean to increase, but if we have outliers to the left of the graph these outliers are dragging \n",
    "down the mean. This causes a conflict because the mean no longer provides a good representation of the data, alternatively\n",
    "we would much rather use the median. The median on the other hand is less likely to be affect by outliers.\n",
    "\n",
    "\n",
    "EXAMPLE:\n",
    "\n",
    "\n",
    "\"\"\"\n",
    "#Calculating measures of central tendency with and without outlier respectively:\n",
    "\n",
    "list3 =[178,177,176,177,178.2,178,175,179,180,175,178.9,176.2,177,172.5,178,176.5] \n",
    "list4 =[178,177,176,177,178.2,178,175,179,180,175,178.9,176.2,177,172.5,380,176.5] \n",
    "\n",
    "\n",
    "#1. Mean \n",
    "\n",
    "#without Outlier:\n",
    "import numpy as np\n",
    "mean = np.mean(list3)\n",
    "print(\"Mean without Outlier\",mean)\n",
    "\n",
    "#with Outlier:\n",
    "import numpy as np\n",
    "mean = np.mean(list4)\n",
    "print(\"Mean with Outlier\",mean)\n",
    "\n",
    "\n",
    "\n",
    "\n",
    "#2.Median:\n",
    "\n",
    "#without Outlier:\n",
    "Median =np.median(list3)\n",
    "print(\"Median without Outlier\",Median)\n",
    "\n",
    "\n",
    "#with Outlier:\n",
    "Median =np.median(list4)\n",
    "print(\"Median with Outlier\",Median)\n",
    "\n",
    "\n",
    "\n",
    "\n",
    "#3. Mode\n",
    "\n",
    "#without Outlier:\n",
    "from scipy import stats\n",
    "mode = stats.mode(list3)\n",
    "print(\"Mode without Outlier\",mode)\n",
    "\n",
    "#with Outlier:\n",
    "from scipy import stats\n",
    "mode = stats.mode(list4)\n",
    "print(\"Mode with Outlier\",mode)\n",
    "\n",
    "\n",
    "\n",
    "\n",
    "#Calculating measures of central tendency with and without outlier respectively:\n",
    "\n",
    "#1.Variance:\n",
    "#without Outlier:\n",
    "Variance = np.std(list3)\n",
    "print(\"Variance with Outlier\",Variance)\n",
    "\n",
    "#without Outlier:\n",
    "Variance = np.std(list4)\n",
    "print(\"Variance with Outlier\",Variance)\n",
    "\n",
    "\n",
    "\n",
    "\n",
    "\n",
    "#2.Standard Deviation:\n",
    "\n",
    "#without Outlier:\n",
    "std_dev = np.std(list3)\n",
    "print(\"Standard Deviation with Outlier\",std_dev)\n",
    "\n",
    "#with Outlier:\n",
    "std_dev = np.std(list4)\n",
    "print(\"Standard Deviation without Outlier\",std_dev)"
   ]
  }
 ],
 "metadata": {
  "kernelspec": {
   "display_name": "Python 3 (ipykernel)",
   "language": "python",
   "name": "python3"
  },
  "language_info": {
   "codemirror_mode": {
    "name": "ipython",
    "version": 3
   },
   "file_extension": ".py",
   "mimetype": "text/x-python",
   "name": "python",
   "nbconvert_exporter": "python",
   "pygments_lexer": "ipython3",
   "version": "3.10.8"
  }
 },
 "nbformat": 4,
 "nbformat_minor": 5
}
