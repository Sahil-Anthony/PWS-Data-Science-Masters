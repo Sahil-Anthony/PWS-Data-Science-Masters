{
 "cells": [
  {
   "cell_type": "code",
   "execution_count": 1,
   "id": "052357b5-5b87-493d-9bbb-446d32683427",
   "metadata": {},
   "outputs": [
    {
     "name": "stdout",
     "output_type": "stream",
     "text": [
      "max speed is 280 and average speed is 140.\n"
     ]
    }
   ],
   "source": [
    "#Q1, Create a vehicle class with an init method having instance variables as name_of_vehicle, \n",
    "# max_speed and average_of_vehicle.\n",
    "\n",
    "class vechile:\n",
    "    def __init__(self,max_speed, average_of_vehicle) :\n",
    "        self.max_speed = max_speed \n",
    "        self.average_of_vehicle = average_of_vehicle\n",
    "\n",
    "    def info(self):\n",
    "        print(f\"max speed is {self.max_speed} and average speed is {self.average_of_vehicle}.\")\n",
    "\n",
    "benz = vechile(280,140)\n",
    "benz.info()"
   ]
  },
  {
   "cell_type": "code",
   "execution_count": 2,
   "id": "21b6751c-8a79-4c5c-bbbf-ae6c424e2d5a",
   "metadata": {},
   "outputs": [
    {
     "name": "stdout",
     "output_type": "stream",
     "text": [
      "Vechile name is S_class and it's seating capacity is 6\n"
     ]
    }
   ],
   "source": [
    "#Q2. Create a child class car from the vehicle class created in Que 1, which will inherit the vehicle class. \n",
    "# Create a method named seating_capacity which takes capacity as an argument and returns the name of the vehicle and its seating capacity.\n",
    "\n",
    "class car(vechile):\n",
    "    def __init__(self,max_speed, average_of_vehicle,name,seating_capacity):\n",
    "        super().__init__(max_speed, average_of_vehicle)\n",
    "        self.name = name\n",
    "        self.seating_capacity = seating_capacity\n",
    "    \n",
    "\n",
    "    def print_Vechile_info(self):\n",
    "        print(f\"Vechile name is {self.name} and it's seating capacity is {self.seating_capacity}\")\n",
    "\n",
    "x=car(240,120,\"S_class\",6)\n",
    "x.print_Vechile_info()        "
   ]
  },
  {
   "cell_type": "code",
   "execution_count": 3,
   "id": "51d59248-6d5b-4bc5-83c1-5839015e62a9",
   "metadata": {},
   "outputs": [
    {
     "name": "stdout",
     "output_type": "stream",
     "text": [
      "Name of the Employee is Sahil.\n"
     ]
    }
   ],
   "source": [
    "#Q3. What is multiple inheritance? Write a python code to demonstrate multiple inheritance.\n",
    "\n",
    "#Ans. Muliple Inheritance is a type of Inheritance where a class can inherit propertise from multiples classes.\n",
    "\n",
    "#Example:\n",
    "\n",
    "class Employee:\n",
    "    def __init__(self,name):\n",
    "        self.name=name\n",
    "\n",
    "    def Print(self):\n",
    "        print(f'Name of the Employee is {self.name}.')\n",
    "\n",
    "        \n",
    "class Department():\n",
    "    def __init__(self,department):\n",
    "        self.department = department\n",
    "       \n",
    "    def Print(self):\n",
    "        print(f'Department is {self.department}.')\n",
    " \n",
    "\n",
    "class Employees_Department(Employee,Department):\n",
    "    def __init__(self,name,department):\n",
    "        self.name = name\n",
    "        self.department = department\n",
    "\n",
    "MIS =Employees_Department(\"Sahil\",\"Talent Acquisition\")\n",
    "#print(MIS.name)\n",
    "#print(MIS.department)\n",
    "\n",
    "MIS.Print()"
   ]
  },
  {
   "cell_type": "code",
   "execution_count": 4,
   "id": "447aac49-6fc1-43c7-afd9-cc0290918c1a",
   "metadata": {},
   "outputs": [
    {
     "name": "stdout",
     "output_type": "stream",
     "text": [
      "21\n"
     ]
    }
   ],
   "source": [
    "#Q4. What are getter and setter in python? Create a class and create a getter and a setter method in this class.\n",
    "\n",
    "#Ans. To provide privileges to external users to get variable we use 'getter' and 'setter' method.\n",
    "\n",
    "class Recruitment:\n",
    "    def __init__(self, age = 0):\n",
    "         self._age = age\n",
    "      \n",
    "    \n",
    "    def get_age(self):\n",
    "        return self._age\n",
    "      \n",
    "    # setter method\n",
    "    def set_age(self, x):\n",
    "        self._age = x\n",
    "  \n",
    "Sahil = Recruitment()\n",
    "  \n",
    "# setting the age using setter\n",
    "Sahil.set_age(21)\n",
    "  \n",
    "# retrieving age using getter\n",
    "print(Sahil.get_age())\n"
   ]
  },
  {
   "cell_type": "code",
   "execution_count": 5,
   "id": "282ab0f7-73ef-4377-8f3b-4f77ed4cea90",
   "metadata": {},
   "outputs": [
    {
     "name": "stdout",
     "output_type": "stream",
     "text": [
      "Inside Employee\n",
      "Inside Department\n"
     ]
    }
   ],
   "source": [
    "#Q5.What is method overriding in python? \n",
    "# Write a python code to demonstrate method overriding.\n",
    "\n",
    "#Ans. Method overriding is an ability of OOP that allows \n",
    "# child class to provide a specific implementation of a \n",
    "# method that is already provided by one of its super-classes or parent \n",
    "# classes. When a method in a child class has the same name, \n",
    "# same parameters or signature and same return \n",
    "# type(or sub-type) \n",
    "# as a method in its super-class, \n",
    "# then the method in the child class is said to override the \n",
    "# method in the super-class.\n",
    "\n",
    "#Example:\n",
    "\n",
    "class Employee():\n",
    "      \n",
    "    def show(self):\n",
    "        print(\"Inside Employee\")\n",
    "          \n",
    "class Department(Employee):\n",
    "      \n",
    "    def show(self):\n",
    "          \n",
    "        # method\n",
    "        super().show()\n",
    "        print(\"Inside Department\")\n",
    "          \n",
    "# Driver's code\n",
    "obj = Department()\n",
    "obj.show()"
   ]
  },
  {
   "cell_type": "code",
   "execution_count": null,
   "id": "1bb0311d-eb2b-4ed5-a3d4-836cc500f9a1",
   "metadata": {},
   "outputs": [],
   "source": []
  }
 ],
 "metadata": {
  "kernelspec": {
   "display_name": "Python 3 (ipykernel)",
   "language": "python",
   "name": "python3"
  },
  "language_info": {
   "codemirror_mode": {
    "name": "ipython",
    "version": 3
   },
   "file_extension": ".py",
   "mimetype": "text/x-python",
   "name": "python",
   "nbconvert_exporter": "python",
   "pygments_lexer": "ipython3",
   "version": "3.10.8"
  }
 },
 "nbformat": 4,
 "nbformat_minor": 5
}
