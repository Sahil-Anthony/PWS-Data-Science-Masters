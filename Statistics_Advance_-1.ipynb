{
 "cells": [
  {
   "cell_type": "code",
   "execution_count": 5,
   "id": "0e9b5806-c2a7-47ae-bb7e-83670562c141",
   "metadata": {},
   "outputs": [
    {
     "data": {
      "text/plain": [
       "'\\nA Probability density functions(PDF) is a mathematical function that describes a continuous probability distribution. It provides the probability \\ndensity of each value of a variable, which can be greater than one.A probability density function can be represented as an equation or as a graph.\\nIn graph form, a probability density function is a curve. You can determine the probability that a value will fall within a certain interval by \\ncalculating the area under the curve within that interval. You can use reference tables or software to calculate the area.The area under the whole \\ncurve is always exactly one because it’s certain (i.e., a probability of one) that an observation will fall somewhere in the variable’s range.\\n\\n'"
      ]
     },
     "execution_count": 5,
     "metadata": {},
     "output_type": "execute_result"
    }
   ],
   "source": [
    "#Q1. What is the Probability density function?\n",
    "\"\"\"\n",
    "A Probability density functions(PDF) is a mathematical function that describes a continuous probability distribution. It provides the probability \n",
    "density of each value of a variable, which can be greater than one.A probability density function can be represented as an equation or as a graph.\n",
    "In graph form, a probability density function is a curve. You can determine the probability that a value will fall within a certain interval by \n",
    "calculating the area under the curve within that interval. You can use reference tables or software to calculate the area.The area under the whole \n",
    "curve is always exactly one because it’s certain (i.e., a probability of one) that an observation will fall somewhere in the variable’s range.\n",
    "\n",
    "\"\"\""
   ]
  },
  {
   "cell_type": "code",
   "execution_count": 3,
   "id": "5006ed98-9640-43c0-9d90-3e70a0742c4d",
   "metadata": {},
   "outputs": [],
   "source": [
    "#Q2. What are the types of Probability distribution?\n",
    "\"\"\"\n",
    "There are two types of probability distributions:\n",
    "\n",
    "1.Discrete probability distributions\n",
    "2.Continuous probability distributions\n",
    "\n",
    "1. Discrete probability distributions :\n",
    "A discrete probability distribution is a probability distribution of a categorical or discrete variable.\n",
    "Discrete probability distributions only include the probabilities of values that are possible. In other words, a discrete probability distribution \n",
    "doesn’t include any values with a probability of zero. For example, a probability distribution of dice rolls doesn’t include 2.5 since it’s not a \n",
    "possible outcome of dice rolls.The probability of all possible values in a discrete probability distribution add up to one. It’s certain (i.e., a \n",
    "probability of one) that an observation will have one of the possible values.\n",
    "\n",
    "Probability mass functions:\n",
    "A probability mass function (PMF) is a mathematical function that describes a discrete probability distribution. It gives the probability of every \n",
    "possible value of a variable. A probability mass function can be represented as an equation or as a graph.\n",
    "\n",
    "\n",
    "\n",
    "2. Continuous probability distributions:\n",
    "A continuous probability distribution is the probability distribution of a continuous variable.A continuous variable can have any value between its \n",
    "lowest and highest values. Therefore, continuous probability distributions include every number in the variable’s range.The probability that a \n",
    "continuous variable will have any specific value is so infinitesimally small that it’s considered to have a probability of zero. However, the \n",
    "probability that a value will fall within a certain interval of values within its range is greater than zero.\n",
    "\n",
    "\n",
    "#Probability density functions:\n",
    "A Probability density functions(PDF) is a mathematical function that describes a continuous probability distribution. It provides the probability \n",
    "density of each value of a variable, which can be greater than one.A probability density function can be represented as an equation or as a graph.\n",
    "In graph form, a probability density function is a curve. You can determine the probability that a value will fall within a certain interval by \n",
    "calculating the area under the curve within that interval. You can use reference tables or software to calculate the area.The area under the whole \n",
    "\n",
    "Cumulative distribution function is another type of function that describes a continuous probability distribution.\n",
    "\n",
    "\n",
    "\n",
    "\"\"\""
   ]
  },
  {
   "cell_type": "code",
   "execution_count": 51,
   "id": "552509d0-bec6-4edd-93c8-add13c70e20f",
   "metadata": {},
   "outputs": [
    {
     "name": "stdout",
     "output_type": "stream",
     "text": [
      "The Probability Density Function is: 0.058273965602651856\n"
     ]
    }
   ],
   "source": [
    "#Q3. Write a Python function to calculate the probability density function of a normal distribution with given mean and standard deviation at a given point.\n",
    "from scipy.stats import norm\n",
    "import numpy as np\n",
    "import matplotlib as plt\n",
    "\n",
    "\n",
    "data_start = -10\n",
    "data_end = 10\n",
    "data_points = 21\n",
    "data = np.linspace(data_start, data_end, data_points)\n",
    "\n",
    "\n",
    "mean = np.mean(data)\n",
    "std = np.std(data)\n",
    "\n",
    "probability_pdf = norm.pdf(3, loc=mean, scale=std)\n",
    "print(\"The Probability Density Function is:\",probability_pdf)\n"
   ]
  },
  {
   "cell_type": "code",
   "execution_count": 5,
   "id": "1260a7fd-9f12-46ec-96a4-da5be872dd27",
   "metadata": {},
   "outputs": [],
   "source": [
    "#Q4. What are the properties of Binomial distribution? Give two examples of events where binomial distribution can be applied.\n",
    "\"\"\"\n",
    "Properties of Binomial Distribution:\n",
    "\n",
    "1.There are only two distinct possible outcomes: true/false, success/failure, yes/no.\n",
    "2.There is a fixed number of 'n' times repeated trials in a given experiment.\n",
    "3.The probability of success or failure remains constant for each attempt/trial.\n",
    "4.Only the successful attempts are calculated out of 'n' independent trials.\n",
    "5.Every trial is an independent trial on its own, this means that the outcome of one trial has no effect on the outcome of another trial.\n",
    "\n",
    "Example:\n",
    "1.Number of Spam Emails per Day\n",
    "Email companies use the binomial distribution to model the probability that a certain number of spam emails land in an inbox per day.\n",
    "\n",
    "For example, suppose it is known that 4% of all emails are spam. If an account receives 20 emails in a given day, we can use a Binomial Distribution Calculator to find the probability that a certain number of those emails are spam:\n",
    "\n",
    "P(X = 0 spam emails) = 0.44200\n",
    "P(X = 1 spam email) = 0.36834\n",
    "P(X = 2 spam emails) = 0.14580\n",
    "etc..\n",
    "\n",
    "\n",
    "2.Number of River Overflows\n",
    "Park systems use the binomial distribution to model the probability that rivers overflow a certain number of times each year due to excessive rain.\n",
    "\n",
    "For example, suppose it is known that a given river overflows during 5% of all storms. If there are 20 storms in a given year, we can use a Binomial Distribution Calculator to find the probability that the river overflows a certain number of times:\n",
    "\n",
    "P(X = 0 overflows) = 0.35849\n",
    "P(X = 1 overflow) = 0.37735\n",
    "P(X = 2 overflows) = 0.18868\n",
    "etc..\n",
    "\n",
    "This gives the parks departments an idea of how many times they may need to prepare for overflows throughout the year.\n",
    "\n",
    "\"\"\""
   ]
  },
  {
   "cell_type": "code",
   "execution_count": 34,
   "id": "1b2943e1-7d02-4a69-ac5b-b4b09672f3e0",
   "metadata": {},
   "outputs": [
    {
     "data": {
      "image/png": "[encoded data removed]",
      "text/plain": [
       "<Figure size 640x480 with 1 Axes>"
      ]
     },
     "metadata": {},
     "output_type": "display_data"
    }
   ],
   "source": [
    "#Q5. Generate a random sample of size 1000 from a binomial distribution with probability of success 0.4 and plot a histogram of the results using matplotlib.\n",
    "\n",
    "\n",
    "import numpy as np\n",
    "import matplotlib.pyplot as plt\n",
    "\n",
    "# Set the seed for reproducibility \n",
    "np.random.seed(56)\n",
    "\n",
    "# Generate the random sample\n",
    "sample_size = 1000\n",
    "probability_success = 0.4\n",
    "sample = np.random.binomial(1, probability_success, size=sample_size)\n",
    "#print(sample)\n",
    "\n",
    "# Plot the histogram\n",
    "plt.hist(sample, bins=2, edgecolor='black')\n",
    "plt.xlabel('Success or Failure')\n",
    "plt.ylabel('Frequency')\n",
    "plt.title('Binomial Distribution')\n",
    "plt.xticks([0, 1], ['Failure', 'Success'])\n",
    "plt.show()\n"
   ]
  },
  {
   "cell_type": "code",
   "execution_count": 13,
   "id": "0998b151-7b97-4c95-a1ea-101ebf925dfe",
   "metadata": {},
   "outputs": [
    {
     "name": "stdin",
     "output_type": "stream",
     "text": [
      "Entre Mean 5\n",
      "Entre a point 2\n"
     ]
    },
    {
     "name": "stdout",
     "output_type": "stream",
     "text": [
      "CDF at point 2: 0.12465201948308113\n"
     ]
    }
   ],
   "source": [
    "#Q6. Write a Python function to calculate the cumulative distribution function of a Poisson distribution with given mean at a given point.\n",
    "import math\n",
    "\n",
    "def poisson_cdf(mean, point):\n",
    "    cdf = 0.0\n",
    "    if point >= 0:\n",
    "        for k in range(point + 1):\n",
    "            cdf += (math.exp(-mean) * (mean ** k)) / math.factorial(k)\n",
    "    return cdf\n",
    "\n",
    "mean = int(input(\"Entre Mean\")) \n",
    "point = int(input(\"Entre a point\"))  \n",
    "cdf_value = poisson_cdf(mean, point)\n",
    "print(f\"CDF at point {point}: {cdf_value}\")\n"
   ]
  },
  {
   "cell_type": "code",
   "execution_count": 8,
   "id": "dbb7cb9f-1b40-4110-95b3-5b7ad1ea65a7",
   "metadata": {},
   "outputs": [],
   "source": [
    "#Q7. How Binomial distribution different from Poisson distribution?\n",
    "\"\"\"\n",
    "Binomial distribution and Poisson distribution are two discrete probability distribution.The difference between Binomial and Poisson distribution is:\n",
    "\n",
    "1. Binomial distribution is one in which the probability of repeated number of trials are studied.Poisson Distribution gives the count of independent events occur randomly with a given period of time.\n",
    "2. Nature of Binomial distribution is Biparametric and Poisson Distribution nature is Uniparametric.\n",
    "3. In Binomial Distribution number of trials is\tFixed and in Poisson Distribution is Infinite.\n",
    "4. Success in Binomial Distribution is Constant probability, in\tPoisson Distribution it is infinitesimal chance of success.\n",
    "5. In Binomial Distribution Outcomes there is only two possible outcomes, i.e. success or failure where as in Poisson Distribution unlimited number of possible outcomes.\n",
    "6. Relation between Mean and Variance in Binomial Distribution is Mean > Variance and in Poisson Distribution is Mean = Variance.\n",
    "\n",
    "\n",
    "\n",
    "\"\"\""
   ]
  },
  {
   "cell_type": "code",
   "execution_count": 35,
   "id": "18ceaf29-26f5-4b58-b889-ba54e4a62aa4",
   "metadata": {},
   "outputs": [
    {
     "name": "stdout",
     "output_type": "stream",
     "text": [
      "Sample Mean: 4.959\n",
      "Sample Variance: 5.237318999999999\n"
     ]
    }
   ],
   "source": [
    "#Q8. Generate a random sample of size 1000 from a Poisson distribution with mean 5 and calculate the sample mean and variance.\n",
    "import numpy as np\n",
    "\n",
    "# Set the mean of the Poisson distribution\n",
    "mean = 5\n",
    "sample_size = 1000\n",
    "sample = np.random.poisson(mean, size=sample_size)\n",
    "#print(sample)\n",
    "\n",
    "# Calculating sample mean and variance\n",
    "sample_mean = np.mean(sample)\n",
    "variance = np.var(sample)\n",
    "\n",
    "print(\"Sample Mean:\", sample_mean)\n",
    "print(\"Sample Variance:\", variance)\n"
   ]
  },
  {
   "cell_type": "code",
   "execution_count": 11,
   "id": "af278c4d-3b3b-4d2c-bb0b-8d1d7698d377",
   "metadata": {},
   "outputs": [
    {
     "data": {
      "text/plain": [
       "'\\nRelation of Mean and Variance in Binomial Distribution is Mean > Variance and in Poisson Distribution is Mean = Variance.\\n'"
      ]
     },
     "execution_count": 11,
     "metadata": {},
     "output_type": "execute_result"
    }
   ],
   "source": [
    "#Q9. How mean and variance are related in Binomial distribution and Poisson distribution?\n",
    "\"\"\"\n",
    "Relation of Mean and Variance in Binomial Distribution is Mean > Variance and in Poisson Distribution is Mean = Variance.\n",
    "\"\"\""
   ]
  },
  {
   "cell_type": "code",
   "execution_count": null,
   "id": "3cb8191c-3375-4685-a976-309cd59aa524",
   "metadata": {},
   "outputs": [],
   "source": [
    "#Q10. In normal distribution with respect to mean position, where does the least frequent data appear?\n",
    "\"\"\"\n",
    "A normal distribution is a type of continuous probability distribution in which most data points cluster toward the middle of the range,\n",
    "this middle of the range is known as the mean of the distribution;while the least frequent data appears to taper off symmetrically toward \n",
    "either extreme.So in normal distribution with respect to mean position the least frequent data appear toward either extremes.\n",
    "\"\"\"\n",
    "\n",
    "\n",
    "\"\"\""
   ]
  }
 ],
 "metadata": {
  "kernelspec": {
   "display_name": "Python 3 (ipykernel)",
   "language": "python",
   "name": "python3"
  },
  "language_info": {
   "codemirror_mode": {
    "name": "ipython",
    "version": 3
   },
   "file_extension": ".py",
   "mimetype": "text/x-python",
   "name": "python",
   "nbconvert_exporter": "python",
   "pygments_lexer": "ipython3",
   "version": "3.10.8"
  }
 },
 "nbformat": 4,
 "nbformat_minor": 5
}
